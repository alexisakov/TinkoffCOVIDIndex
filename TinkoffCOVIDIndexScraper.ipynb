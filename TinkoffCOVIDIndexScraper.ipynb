{
  "nbformat": 4,
  "nbformat_minor": 0,
  "metadata": {
    "colab": {
      "name": "TinkoffCOVIDIndexScraper.ipynb",
      "provenance": [],
      "authorship_tag": "ABX9TyMjoFA1cBniazdUpGhANSLz",
      "include_colab_link": true
    },
    "kernelspec": {
      "name": "python3",
      "display_name": "Python 3"
    }
  },
  "cells": [
    {
      "cell_type": "markdown",
      "metadata": {
        "id": "view-in-github",
        "colab_type": "text"
      },
      "source": [
        "<a href=\"https://colab.research.google.com/github/alexisakov/TinkoffCOVIDIndex/blob/master/TinkoffCOVIDIndexScraper.ipynb\" target=\"_parent\"><img src=\"https://colab.research.google.com/assets/colab-badge.svg\" alt=\"Open In Colab\"/></a>"
      ]
    },
    {
      "cell_type": "markdown",
      "metadata": {
        "id": "jCiN7ic6Szr6",
        "colab_type": "text"
      },
      "source": [
        "Chose file path for saved data:"
      ]
    },
    {
      "cell_type": "code",
      "metadata": {
        "id": "UDJLxN87S-bu",
        "colab_type": "code",
        "colab": {}
      },
      "source": [
        "filepath = r'C:\\Users\\YOURUSERNAME\\Downloads\\TinkoffCOVIDIndex.xlsx'"
      ],
      "execution_count": 0,
      "outputs": []
    },
    {
      "cell_type": "code",
      "metadata": {
        "id": "3ysP9qO988zX",
        "colab_type": "code",
        "colab": {}
      },
      "source": [
        "import json, pandas as pd, requests"
      ],
      "execution_count": 0,
      "outputs": []
    },
    {
      "cell_type": "code",
      "metadata": {
        "id": "NgHjUiII9e97",
        "colab_type": "code",
        "colab": {}
      },
      "source": [
        "tall = json.loads(requests.get(f'https://index.tinkoff.ru/corona-index/papi/charts?region=all').content)"
      ],
      "execution_count": 0,
      "outputs": []
    },
    {
      "cell_type": "code",
      "metadata": {
        "id": "m5GCfVUn9mSq",
        "colab_type": "code",
        "colab": {}
      },
      "source": [
        "# process 'total'\n",
        "ttlnames = ['Index','ConsumerActivity','OnlinePayShare']\n",
        "\n",
        "startdate = tall['total']['start']\n",
        "startdate = startdate[6:] + '-' + startdate[3:5] + '-' + startdate[0:2]\n",
        "\n",
        "dtrange = pd.date_range(startdate, periods=len(tall['total']['points']), freq='D')\n",
        "dftotal = pd.DataFrame(tall['total']['points'], index=dtrange, columns=ttlnames)"
      ],
      "execution_count": 0,
      "outputs": []
    },
    {
      "cell_type": "code",
      "metadata": {
        "id": "T0Qf4JAL9mqv",
        "colab_type": "code",
        "colab": {}
      },
      "source": [
        "# process 'categories'\n",
        "\n",
        "dictcat = []\n",
        "\n",
        "for c in tall['categories']:\n",
        "    if tall['categories'][c] == {}:\n",
        "        continue\n",
        "    startdate = tall['categories'][c]['start']\n",
        "    startdate = startdate[6:] + '-' + startdate[3:5] + '-' + startdate[0:2]\n",
        "    dtrange = pd.date_range(startdate, periods=len(tall['categories'][c]['points']), freq='D')\n",
        "    dictcat.append(pd.DataFrame(tall['categories'][c]['points'], index=dtrange, columns=[c]))\n",
        "#    print(c)\n",
        "dfcategories = pd.concat(dictcat, axis=1)"
      ],
      "execution_count": 0,
      "outputs": []
    },
    {
      "cell_type": "code",
      "metadata": {
        "id": "m5pVEHlJ9nnA",
        "colab_type": "code",
        "colab": {}
      },
      "source": [
        "# process businessTotal\n",
        "ttlnames = ['Turnoveer']\n",
        "\n",
        "startdate = tall['businessTotal']['start']\n",
        "startdate = startdate[6:] + '-' + startdate[3:5] + '-' + startdate[0:2]\n",
        "dtrange = pd.date_range(startdate, periods=len(tall['businessTotal']['points']), freq='W')\n",
        "\n",
        "dfBusinessTotal = pd.DataFrame(tall['businessTotal']['points'], index=dtrange, columns=ttlnames)"
      ],
      "execution_count": 0,
      "outputs": []
    },
    {
      "cell_type": "code",
      "metadata": {
        "id": "y0Pz1uU29nkP",
        "colab_type": "code",
        "colab": {}
      },
      "source": [
        "# process 'categories'\n",
        "dictcat = []\n",
        "\n",
        "for c in tall['businessCategories']:\n",
        "    if tall['businessCategories'][c] == {}:\n",
        "        continue\n",
        "    startdate = tall['businessCategories'][c]['start']\n",
        "    startdate = startdate[6:] + '-' + startdate[3:5] + '-' + startdate[0:2]\n",
        "    dtrange = pd.date_range(startdate, periods=len(tall['businessCategories'][c]['points']), freq='W')\n",
        "    dictcat.append(pd.DataFrame(tall['businessCategories'][c]['points'], index=dtrange, columns=[c]))\n",
        "#    print(c)\n",
        "dfBusinessCategories = pd.concat(dictcat, axis=1)"
      ],
      "execution_count": 0,
      "outputs": []
    },
    {
      "cell_type": "markdown",
      "metadata": {
        "id": "rcKuwW8S907v",
        "colab_type": "text"
      },
      "source": [
        "Save dataframes to xl using this recipe: https://stackoverflow.com/questions/14225676/save-list-of-dataframes-to-multisheet-excel-spreadsheet\n"
      ]
    },
    {
      "cell_type": "code",
      "metadata": {
        "id": "3ELqYC7o9ngi",
        "colab_type": "code",
        "colab": {}
      },
      "source": [
        "def save_xls(list_dfs, xls_path):\n",
        "    import pandas as pd\n",
        "    with pd.ExcelWriter(xls_path) as writer:\n",
        "        for n, df in enumerate(list_dfs):\n",
        "            df.to_excel(writer,'sheet%s' % n)\n",
        "        writer.save()"
      ],
      "execution_count": 0,
      "outputs": []
    },
    {
      "cell_type": "code",
      "metadata": {
        "id": "VB2OPin19nW3",
        "colab_type": "code",
        "colab": {}
      },
      "source": [
        "save_xls([dftotal,dfcategories,dfBusinessTotal,dfBusinessCategories],filepath)"
      ],
      "execution_count": 0,
      "outputs": []
    }
  ]
}